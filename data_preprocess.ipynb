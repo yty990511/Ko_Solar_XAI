{
 "cells": [
  {
   "cell_type": "code",
   "execution_count": 1,
   "metadata": {},
   "outputs": [
    {
     "name": "stdout",
     "output_type": "stream",
     "text": [
      "Requirement already satisfied: catboost in c:\\users\\양태영\\appdata\\local\\programs\\python\\python310\\lib\\site-packages (1.2.7)Note: you may need to restart the kernel to use updated packages.\n",
      "\n",
      "Requirement already satisfied: graphviz in c:\\users\\양태영\\appdata\\local\\programs\\python\\python310\\lib\\site-packages (from catboost) (0.20.3)\n",
      "Requirement already satisfied: scipy in c:\\users\\양태영\\appdata\\local\\programs\\python\\python310\\lib\\site-packages (from catboost) (1.14.1)\n",
      "Requirement already satisfied: matplotlib in c:\\users\\양태영\\appdata\\local\\programs\\python\\python310\\lib\\site-packages (from catboost) (3.9.2)\n",
      "Requirement already satisfied: plotly in c:\\users\\양태영\\appdata\\local\\programs\\python\\python310\\lib\\site-packages (from catboost) (5.24.1)\n",
      "Requirement already satisfied: numpy<2.0,>=1.16.0 in c:\\users\\양태영\\appdata\\local\\programs\\python\\python310\\lib\\site-packages (from catboost) (1.26.4)\n",
      "Requirement already satisfied: pandas>=0.24 in c:\\users\\양태영\\appdata\\local\\programs\\python\\python310\\lib\\site-packages (from catboost) (2.2.3)\n",
      "Requirement already satisfied: six in c:\\users\\양태영\\appdata\\roaming\\python\\python310\\site-packages (from catboost) (1.16.0)\n",
      "Requirement already satisfied: pytz>=2020.1 in c:\\users\\양태영\\appdata\\local\\programs\\python\\python310\\lib\\site-packages (from pandas>=0.24->catboost) (2024.2)\n",
      "Requirement already satisfied: tzdata>=2022.7 in c:\\users\\양태영\\appdata\\local\\programs\\python\\python310\\lib\\site-packages (from pandas>=0.24->catboost) (2024.2)\n",
      "Requirement already satisfied: python-dateutil>=2.8.2 in c:\\users\\양태영\\appdata\\roaming\\python\\python310\\site-packages (from pandas>=0.24->catboost) (2.9.0.post0)\n",
      "Requirement already satisfied: pillow>=8 in c:\\users\\양태영\\appdata\\local\\programs\\python\\python310\\lib\\site-packages (from matplotlib->catboost) (11.0.0)\n",
      "Requirement already satisfied: pyparsing>=2.3.1 in c:\\users\\양태영\\appdata\\local\\programs\\python\\python310\\lib\\site-packages (from matplotlib->catboost) (3.2.0)\n",
      "Requirement already satisfied: packaging>=20.0 in c:\\users\\양태영\\appdata\\roaming\\python\\python310\\site-packages (from matplotlib->catboost) (24.2)\n",
      "Requirement already satisfied: contourpy>=1.0.1 in c:\\users\\양태영\\appdata\\local\\programs\\python\\python310\\lib\\site-packages (from matplotlib->catboost) (1.3.1)\n",
      "Requirement already satisfied: kiwisolver>=1.3.1 in c:\\users\\양태영\\appdata\\local\\programs\\python\\python310\\lib\\site-packages (from matplotlib->catboost) (1.4.7)\n",
      "Requirement already satisfied: cycler>=0.10 in c:\\users\\양태영\\appdata\\local\\programs\\python\\python310\\lib\\site-packages (from matplotlib->catboost) (0.12.1)\n",
      "Requirement already satisfied: fonttools>=4.22.0 in c:\\users\\양태영\\appdata\\local\\programs\\python\\python310\\lib\\site-packages (from matplotlib->catboost) (4.55.0)\n",
      "Requirement already satisfied: tenacity>=6.2.0 in c:\\users\\양태영\\appdata\\local\\programs\\python\\python310\\lib\\site-packages (from plotly->catboost) (9.0.0)\n"
     ]
    },
    {
     "name": "stderr",
     "output_type": "stream",
     "text": [
      "WARNING: You are using pip version 22.0.4; however, version 24.3.1 is available.\n",
      "You should consider upgrading via the 'c:\\Users\\양태영\\AppData\\Local\\Programs\\Python\\Python310\\python.exe -m pip install --upgrade pip' command.\n"
     ]
    }
   ],
   "source": [
    "pip install catboost"
   ]
  },
  {
   "cell_type": "code",
   "execution_count": 2,
   "metadata": {},
   "outputs": [
    {
     "name": "stdout",
     "output_type": "stream",
     "text": [
      "Requirement already satisfied: xgboost in c:\\users\\양태영\\appdata\\local\\programs\\python\\python310\\lib\\site-packages (2.1.3)\n",
      "Requirement already satisfied: lightgbm in c:\\users\\양태영\\appdata\\local\\programs\\python\\python310\\lib\\site-packages (4.5.0)\n",
      "Requirement already satisfied: mlxtend in c:\\users\\양태영\\appdata\\local\\programs\\python\\python310\\lib\\site-packages (0.23.3)\n",
      "Requirement already satisfied: statsmodels in c:\\users\\양태영\\appdata\\local\\programs\\python\\python310\\lib\\site-packages (0.14.4)\n",
      "Requirement already satisfied: scikit-learn in c:\\users\\양태영\\appdata\\local\\programs\\python\\python310\\lib\\site-packages (1.5.2)\n",
      "Requirement already satisfied: numpy in c:\\users\\양태영\\appdata\\local\\programs\\python\\python310\\lib\\site-packages (from xgboost) (1.26.4)\n",
      "Requirement already satisfied: scipy in c:\\users\\양태영\\appdata\\local\\programs\\python\\python310\\lib\\site-packages (from xgboost) (1.14.1)\n",
      "Requirement already satisfied: pandas>=0.24.2 in c:\\users\\양태영\\appdata\\local\\programs\\python\\python310\\lib\\site-packages (from mlxtend) (2.2.3)\n",
      "Requirement already satisfied: matplotlib>=3.0.0 in c:\\users\\양태영\\appdata\\local\\programs\\python\\python310\\lib\\site-packages (from mlxtend) (3.9.2)\n",
      "Requirement already satisfied: joblib>=0.13.2 in c:\\users\\양태영\\appdata\\local\\programs\\python\\python310\\lib\\site-packages (from mlxtend) (1.4.2)\n",
      "Requirement already satisfied: packaging>=21.3 in c:\\users\\양태영\\appdata\\roaming\\python\\python310\\site-packages (from statsmodels) (24.2)\n",
      "Requirement already satisfied: patsy>=0.5.6 in c:\\users\\양태영\\appdata\\local\\programs\\python\\python310\\lib\\site-packages (from statsmodels) (1.0.1)\n",
      "Requirement already satisfied: threadpoolctl>=3.1.0 in c:\\users\\양태영\\appdata\\local\\programs\\python\\python310\\lib\\site-packages (from scikit-learn) (3.5.0)\n",
      "Requirement already satisfied: python-dateutil>=2.7 in c:\\users\\양태영\\appdata\\roaming\\python\\python310\\site-packages (from matplotlib>=3.0.0->mlxtend) (2.9.0.post0)\n",
      "Requirement already satisfied: pyparsing>=2.3.1 in c:\\users\\양태영\\appdata\\local\\programs\\python\\python310\\lib\\site-packages (from matplotlib>=3.0.0->mlxtend) (3.2.0)\n",
      "Requirement already satisfied: pillow>=8 in c:\\users\\양태영\\appdata\\local\\programs\\python\\python310\\lib\\site-packages (from matplotlib>=3.0.0->mlxtend) (11.0.0)\n",
      "Requirement already satisfied: cycler>=0.10 in c:\\users\\양태영\\appdata\\local\\programs\\python\\python310\\lib\\site-packages (from matplotlib>=3.0.0->mlxtend) (0.12.1)\n",
      "Requirement already satisfied: contourpy>=1.0.1 in c:\\users\\양태영\\appdata\\local\\programs\\python\\python310\\lib\\site-packages (from matplotlib>=3.0.0->mlxtend) (1.3.1)\n",
      "Requirement already satisfied: kiwisolver>=1.3.1 in c:\\users\\양태영\\appdata\\local\\programs\\python\\python310\\lib\\site-packages (from matplotlib>=3.0.0->mlxtend) (1.4.7)\n",
      "Requirement already satisfied: fonttools>=4.22.0 in c:\\users\\양태영\\appdata\\local\\programs\\python\\python310\\lib\\site-packages (from matplotlib>=3.0.0->mlxtend) (4.55.0)\n",
      "Requirement already satisfied: pytz>=2020.1 in c:\\users\\양태영\\appdata\\local\\programs\\python\\python310\\lib\\site-packages (from pandas>=0.24.2->mlxtend) (2024.2)\n",
      "Requirement already satisfied: tzdata>=2022.7 in c:\\users\\양태영\\appdata\\local\\programs\\python\\python310\\lib\\site-packages (from pandas>=0.24.2->mlxtend) (2024.2)\n",
      "Requirement already satisfied: six>=1.5 in c:\\users\\양태영\\appdata\\roaming\\python\\python310\\site-packages (from python-dateutil>=2.7->matplotlib>=3.0.0->mlxtend) (1.16.0)\n",
      "Note: you may need to restart the kernel to use updated packages.\n"
     ]
    },
    {
     "name": "stderr",
     "output_type": "stream",
     "text": [
      "WARNING: You are using pip version 22.0.4; however, version 24.3.1 is available.\n",
      "You should consider upgrading via the 'c:\\Users\\양태영\\AppData\\Local\\Programs\\Python\\Python310\\python.exe -m pip install --upgrade pip' command.\n"
     ]
    }
   ],
   "source": [
    "pip install xgboost lightgbm mlxtend statsmodels scikit-learn"
   ]
  },
  {
   "cell_type": "code",
   "execution_count": 3,
   "metadata": {},
   "outputs": [
    {
     "name": "stdout",
     "output_type": "stream",
     "text": [
      "Requirement already satisfied: shap in c:\\users\\양태영\\appdata\\local\\programs\\python\\python310\\lib\\site-packages (0.46.0)\n",
      "Requirement already satisfied: scipy in c:\\users\\양태영\\appdata\\local\\programs\\python\\python310\\lib\\site-packages (from shap) (1.14.1)\n",
      "Requirement already satisfied: packaging>20.9 in c:\\users\\양태영\\appdata\\roaming\\python\\python310\\site-packages (from shap) (24.2)\n",
      "Requirement already satisfied: slicer==0.0.8 in c:\\users\\양태영\\appdata\\local\\programs\\python\\python310\\lib\\site-packages (from shap) (0.0.8)\n",
      "Requirement already satisfied: numpy in c:\\users\\양태영\\appdata\\local\\programs\\python\\python310\\lib\\site-packages (from shap) (1.26.4)\n",
      "Requirement already satisfied: pandas in c:\\users\\양태영\\appdata\\local\\programs\\python\\python310\\lib\\site-packages (from shap) (2.2.3)\n",
      "Requirement already satisfied: numba in c:\\users\\양태영\\appdata\\local\\programs\\python\\python310\\lib\\site-packages (from shap) (0.60.0)\n",
      "Requirement already satisfied: scikit-learn in c:\\users\\양태영\\appdata\\local\\programs\\python\\python310\\lib\\site-packages (from shap) (1.5.2)\n",
      "Requirement already satisfied: tqdm>=4.27.0 in c:\\users\\양태영\\appdata\\local\\programs\\python\\python310\\lib\\site-packages (from shap) (4.67.1)\n",
      "Requirement already satisfied: cloudpickle in c:\\users\\양태영\\appdata\\local\\programs\\python\\python310\\lib\\site-packages (from shap) (3.1.0)\n",
      "Requirement already satisfied: colorama in c:\\users\\양태영\\appdata\\roaming\\python\\python310\\site-packages (from tqdm>=4.27.0->shap) (0.4.6)\n",
      "Requirement already satisfied: llvmlite<0.44,>=0.43.0dev0 in c:\\users\\양태영\\appdata\\local\\programs\\python\\python310\\lib\\site-packages (from numba->shap) (0.43.0)\n",
      "Requirement already satisfied: tzdata>=2022.7 in c:\\users\\양태영\\appdata\\local\\programs\\python\\python310\\lib\\site-packages (from pandas->shap) (2024.2)\n",
      "Requirement already satisfied: pytz>=2020.1 in c:\\users\\양태영\\appdata\\local\\programs\\python\\python310\\lib\\site-packages (from pandas->shap) (2024.2)\n",
      "Requirement already satisfied: python-dateutil>=2.8.2 in c:\\users\\양태영\\appdata\\roaming\\python\\python310\\site-packages (from pandas->shap) (2.9.0.post0)\n",
      "Requirement already satisfied: threadpoolctl>=3.1.0 in c:\\users\\양태영\\appdata\\local\\programs\\python\\python310\\lib\\site-packages (from scikit-learn->shap) (3.5.0)\n",
      "Requirement already satisfied: joblib>=1.2.0 in c:\\users\\양태영\\appdata\\local\\programs\\python\\python310\\lib\\site-packages (from scikit-learn->shap) (1.4.2)\n",
      "Requirement already satisfied: six>=1.5 in c:\\users\\양태영\\appdata\\roaming\\python\\python310\\site-packages (from python-dateutil>=2.8.2->pandas->shap) (1.16.0)\n",
      "Note: you may need to restart the kernel to use updated packages.\n"
     ]
    },
    {
     "name": "stderr",
     "output_type": "stream",
     "text": [
      "WARNING: You are using pip version 22.0.4; however, version 24.3.1 is available.\n",
      "You should consider upgrading via the 'c:\\Users\\양태영\\AppData\\Local\\Programs\\Python\\Python310\\python.exe -m pip install --upgrade pip' command.\n"
     ]
    }
   ],
   "source": [
    "pip install shap"
   ]
  },
  {
   "cell_type": "code",
   "execution_count": 4,
   "metadata": {},
   "outputs": [
    {
     "name": "stdout",
     "output_type": "stream",
     "text": [
      "Requirement already satisfied: seaborn in c:\\users\\양태영\\appdata\\local\\programs\\python\\python310\\lib\\site-packages (0.13.2)\n",
      "Requirement already satisfied: matplotlib in c:\\users\\양태영\\appdata\\local\\programs\\python\\python310\\lib\\site-packages (3.9.2)\n",
      "Requirement already satisfied: joblib in c:\\users\\양태영\\appdata\\local\\programs\\python\\python310\\lib\\site-packages (1.4.2)\n",
      "Requirement already satisfied: pandas>=1.2 in c:\\users\\양태영\\appdata\\local\\programs\\python\\python310\\lib\\site-packages (from seaborn) (2.2.3)\n",
      "Requirement already satisfied: numpy!=1.24.0,>=1.20 in c:\\users\\양태영\\appdata\\local\\programs\\python\\python310\\lib\\site-packages (from seaborn) (1.26.4)\n",
      "Requirement already satisfied: packaging>=20.0 in c:\\users\\양태영\\appdata\\roaming\\python\\python310\\site-packages (from matplotlib) (24.2)\n",
      "Requirement already satisfied: cycler>=0.10 in c:\\users\\양태영\\appdata\\local\\programs\\python\\python310\\lib\\site-packages (from matplotlib) (0.12.1)\n",
      "Requirement already satisfied: python-dateutil>=2.7 in c:\\users\\양태영\\appdata\\roaming\\python\\python310\\site-packages (from matplotlib) (2.9.0.post0)\n",
      "Requirement already satisfied: pillow>=8 in c:\\users\\양태영\\appdata\\local\\programs\\python\\python310\\lib\\site-packages (from matplotlib) (11.0.0)\n",
      "Requirement already satisfied: contourpy>=1.0.1 in c:\\users\\양태영\\appdata\\local\\programs\\python\\python310\\lib\\site-packages (from matplotlib) (1.3.1)\n",
      "Requirement already satisfied: pyparsing>=2.3.1 in c:\\users\\양태영\\appdata\\local\\programs\\python\\python310\\lib\\site-packages (from matplotlib) (3.2.0)\n",
      "Requirement already satisfied: fonttools>=4.22.0 in c:\\users\\양태영\\appdata\\local\\programs\\python\\python310\\lib\\site-packages (from matplotlib) (4.55.0)\n",
      "Requirement already satisfied: kiwisolver>=1.3.1 in c:\\users\\양태영\\appdata\\local\\programs\\python\\python310\\lib\\site-packages (from matplotlib) (1.4.7)\n",
      "Requirement already satisfied: pytz>=2020.1 in c:\\users\\양태영\\appdata\\local\\programs\\python\\python310\\lib\\site-packages (from pandas>=1.2->seaborn) (2024.2)\n",
      "Requirement already satisfied: tzdata>=2022.7 in c:\\users\\양태영\\appdata\\local\\programs\\python\\python310\\lib\\site-packages (from pandas>=1.2->seaborn) (2024.2)\n",
      "Requirement already satisfied: six>=1.5 in c:\\users\\양태영\\appdata\\roaming\\python\\python310\\site-packages (from python-dateutil>=2.7->matplotlib) (1.16.0)\n",
      "Note: you may need to restart the kernel to use updated packages.\n"
     ]
    },
    {
     "name": "stderr",
     "output_type": "stream",
     "text": [
      "WARNING: You are using pip version 22.0.4; however, version 24.3.1 is available.\n",
      "You should consider upgrading via the 'c:\\Users\\양태영\\AppData\\Local\\Programs\\Python\\Python310\\python.exe -m pip install --upgrade pip' command.\n"
     ]
    }
   ],
   "source": [
    "pip install seaborn matplotlib joblib"
   ]
  },
  {
   "cell_type": "code",
   "execution_count": 5,
   "metadata": {},
   "outputs": [
    {
     "name": "stderr",
     "output_type": "stream",
     "text": [
      "c:\\Users\\양태영\\AppData\\Local\\Programs\\Python\\Python310\\lib\\site-packages\\tqdm\\auto.py:21: TqdmWarning: IProgress not found. Please update jupyter and ipywidgets. See https://ipywidgets.readthedocs.io/en/stable/user_install.html\n",
      "  from .autonotebook import tqdm as notebook_tqdm\n"
     ]
    }
   ],
   "source": [
    "import pandas as pd\n",
    "import numpy as np\n",
    "from sklearn.model_selection import train_test_split, cross_val_predict\n",
    "import seaborn as sns\n",
    "import matplotlib.pyplot as plt\n",
    "import joblib\n",
    "import time\n",
    "import shap\n",
    "\n",
    "from xgboost import XGBRegressor\n",
    "from lightgbm import LGBMRegressor\n",
    "from mlxtend.regressor import StackingRegressor\n",
    "import statsmodels.api as sm\n",
    "from sklearn.linear_model import LinearRegression\n",
    "from sklearn.ensemble import RandomForestRegressor, GradientBoostingRegressor\n",
    "from sklearn.metrics import mean_squared_error, r2_score, mean_absolute_error"
   ]
  },
  {
   "cell_type": "markdown",
   "metadata": {},
   "source": [
    "데이터 준비\n"
   ]
  },
  {
   "cell_type": "code",
   "execution_count": 7,
   "metadata": {},
   "outputs": [],
   "source": [
    "gwangju_data = pd.read_csv(\"Gwangju.csv\")\n",
    "busan_data = pd.read_csv(\"Busan.csv\")\n",
    "daegu_data = pd.read_csv(\"Daegu.csv\")\n",
    "daejeon_data = pd.read_csv(\"Daejeon.csv\")\n",
    "incheon_data = pd.read_csv(\"Incheon.csv\")\n",
    "seoul_data = pd.read_csv(\"Seoul.csv\")"
   ]
  },
  {
   "cell_type": "markdown",
   "metadata": {},
   "source": [
    "데이터 전처리"
   ]
  },
  {
   "cell_type": "code",
   "execution_count": 8,
   "metadata": {},
   "outputs": [],
   "source": [
    "# 이상치 제거 행, 누락된 timestemp에 해당하는 데이터 선형보간으로 채우기 \n",
    "\n",
    "def preprocess_cleaned(data, solar_outlier=6):\n",
    "    \"\"\"\n",
    "    데이터 전처리: 이상치 제거, 누락된 시간 채우기, 선형 보간 수행, Datetime 재구성.\n",
    "    \n",
    "    Parameters:\n",
    "    - data (pd.DataFrame): 원본 데이터프레임.\n",
    "    - solar_outlier (float): 제거할 Solar 값 기준.\n",
    "    \n",
    "    Returns:\n",
    "    - pd.DataFrame: 전처리된 데이터프레임 (Year, Month, Day, Hour 복원).\n",
    "    \"\"\"\n",
    "    # Step 1: Datetime 생성\n",
    "    data['Datetime'] = pd.to_datetime(data[['Year', 'Month', 'Day', 'Hour']])\n",
    "\n",
    "    # Step 2: 이상치 제거\n",
    "    data = data[data['Solar'] != solar_outlier]\n",
    "\n",
    "    # Step 3: 누락된 시간 채우기\n",
    "    full_range = []\n",
    "    full_days = pd.date_range(start=data['Datetime'].min().date(),\n",
    "                              end=data['Datetime'].max().date(),\n",
    "                              freq='D')\n",
    "    for day in full_days:\n",
    "        for hour in range(8, 19):  # 시간 범위: 08시 ~ 18시\n",
    "            full_range.append(pd.Timestamp(day) + pd.Timedelta(hours=hour))\n",
    "    full_range = pd.DatetimeIndex(full_range)\n",
    "    full_data = pd.DataFrame({'Datetime': full_range})\n",
    "\n",
    "    # Step 4: 병합 (Datetime 기준)\n",
    "    merged_data = full_data.merge(data, on='Datetime', how='left')\n",
    "\n",
    "    # Step 5: 선형 보간 (Datetime 제외)\n",
    "    for col in merged_data.columns:\n",
    "        if col != 'Datetime':\n",
    "            merged_data[col] = merged_data[col].interpolate(method='linear')\n",
    "\n",
    "    # Step 6: Datetime에서 Year, Month, Day, Hour 복원\n",
    "    merged_data['Year'] = merged_data['Datetime'].dt.year\n",
    "    merged_data['Month'] = merged_data['Datetime'].dt.month\n",
    "    merged_data['Day'] = merged_data['Datetime'].dt.day\n",
    "    merged_data['Hour'] = merged_data['Datetime'].dt.hour\n",
    "\n",
    "    # Step 7: Datetime 제거 (필요시 유지 가능)\n",
    "    merged_data.drop(columns=['Datetime'], inplace=True)\n",
    "\n",
    "    return merged_data"
   ]
  },
  {
   "cell_type": "code",
   "execution_count": 9,
   "metadata": {},
   "outputs": [],
   "source": [
    "gwangju_data_cleaned = preprocess_cleaned(gwangju_data)\n",
    "gwangju_data_cleaned.to_csv(\"Gwangju_cleaned.csv\", index=False)\n",
    "\n",
    "busan_data_cleaned = preprocess_cleaned(busan_data)\n",
    "busan_data_cleaned.to_csv(\"Busan_cleaned.csv\", index=False)\n",
    "\n",
    "daegu_data_cleaned = preprocess_cleaned(daegu_data)\n",
    "daegu_data_cleaned.to_csv(\"Daegu_cleaned.csv\", index=False)\n",
    "\n",
    "daejeon_data_cleaned = preprocess_cleaned(daejeon_data)\n",
    "daejeon_data_cleaned.to_csv(\"Daejeon_cleaned.csv\", index=False)\n",
    "\n",
    "incheon_data_cleaned = preprocess_cleaned(incheon_data)\n",
    "incheon_data_cleaned.to_csv(\"Incheon_cleaned.csv\", index=False)\n",
    "\n",
    "seoul_data_cleaned = preprocess_cleaned(seoul_data)\n",
    "seoul_data_cleaned.to_csv(\"Seoul_cleaned.csv\", index=False)"
   ]
  },
  {
   "cell_type": "code",
   "execution_count": 11,
   "metadata": {},
   "outputs": [],
   "source": [
    "gwangju_data_cleaned=pd.read_csv(\"Gwangju_cleaned.csv\")\n",
    "\n",
    "busan_data_cleaned = pd.read_csv(\"Busan_cleaned.csv\")\n",
    "\n",
    "daegu_data_cleaned = pd.read_csv(\"Daegu_cleaned.csv\")\n",
    "\n",
    "daejeon_data_cleaned = pd.read_csv(\"Daejeon_cleaned.csv\")\n",
    "\n",
    "incheon_data_cleaned = pd.read_csv(\"Incheon_cleaned.csv\")\n",
    "\n",
    "seoul_data_cleaned = pd.read_csv(\"Seoul_cleaned.csv\")"
   ]
  },
  {
   "cell_type": "code",
   "execution_count": 12,
   "metadata": {},
   "outputs": [],
   "source": [
    "\"\"\"\n",
    "    최종 전처리 함수\n",
    "    - Day_sin, Day_cos 주기 변수 생성\n",
    "    - Hour를 원핫 인코딩 (T8 ~ T18).\n",
    "    - 전날의 Temp, Humi, WS, Solar 데이터를 추가\n",
    "    \"\"\"\n",
    "def preprocess_time(data):\n",
    "    \n",
    "    # Timestamp 생성 및 Day_sin, Day_cos 생성\n",
    "    data['Timestamp'] = pd.to_datetime(data[['Year', 'Month', 'Day']])\n",
    "    data['Day_sin'] = np.sin(2 * np.pi * data['Timestamp'].dt.dayofyear / 365)\n",
    "    data['Day_cos'] = np.cos(2 * np.pi * data['Timestamp'].dt.dayofyear / 365)\n",
    "    \n",
    "    # Hour 원핫 인코딩 (T8 ~ T18)\n",
    "    hour_dummies = pd.get_dummies(data['Hour'], prefix='', prefix_sep='')\n",
    "    hour_dummies.columns = ['T' + col for col in hour_dummies.columns.astype(str)]\n",
    "    hour_dummies = hour_dummies.astype(int)\n",
    "    data = pd.concat([data, hour_dummies], axis=1)\n",
    "    \n",
    "    # 전날 데이터 추가 (D1_Temp, D1_Humi, D1_WS, D1_Solar)\n",
    "    data['D1_Temp'] = data['Temp'].shift(11, fill_value=0)  # 전날 08:00의 Temp, 기본값 0\n",
    "    data['D1_Humi'] = data['Humi'].shift(11, fill_value=0)  # 전날 08:00의 Humi, 기본값 0\n",
    "    data['D1_WS'] = data['WS'].shift(11, fill_value=0)      # 전날 08:00의 WS, 기본값 0\n",
    "    data['D1_Solar'] = data['Solar'].shift(11, fill_value=0)  # 전날 08:00의 Solar, 기본값 0\n",
    "    \n",
    "    # 불필요한 컬럼 제거\n",
    "    data.drop(columns=['Timestamp', 'Year', 'Month', 'Day', 'Hour'], inplace=True)\n",
    "    \n",
    "    # 결과 반환\n",
    "    return data"
   ]
  },
  {
   "cell_type": "code",
   "execution_count": 13,
   "metadata": {},
   "outputs": [],
   "source": [
    "gwangju_preprocess = preprocess_time(gwangju_data_cleaned)\n",
    "gwangju_preprocess.to_csv(\"Gwangju_preprocess.csv\", index=False)\n",
    "\n",
    "busan_preprocess = preprocess_time(busan_data_cleaned)\n",
    "busan_preprocess.to_csv(\"Busan_preprocess.csv\", index=False)\n",
    "\n",
    "daegu_preprocess = preprocess_time(daegu_data_cleaned)\n",
    "daegu_preprocess.to_csv(\"Daegu_preprocess.csv\", index=False)\n",
    "\n",
    "daejeon_preprocess = preprocess_time(daejeon_data_cleaned)\n",
    "daejeon_preprocess.to_csv(\"Daejeon_preprocess.csv\", index=False)\n",
    "\n",
    "incheon_preprocess = preprocess_time(incheon_data_cleaned)\n",
    "incheon_preprocess.to_csv(\"Incheon_preprocess.csv\", index=False)\n",
    "\n",
    "seoul_preprocess = preprocess_time(seoul_data_cleaned)\n",
    "seoul_preprocess.to_csv(\"Seoul_preprocess.csv\", index=False)"
   ]
  },
  {
   "cell_type": "code",
   "execution_count": 14,
   "metadata": {},
   "outputs": [],
   "source": [
    "gwangju_preprocessed = pd.read_csv(\"Gwangju_preprocess.csv\")\n",
    "\n",
    "busan_preprocessed = pd.read_csv(\"Busan_preprocess.csv\")\n",
    "\n",
    "daegu_preprocessed = pd.read_csv(\"Daegu_preprocess.csv\")\n",
    "\n",
    "daejeon_preprocessed = pd.read_csv(\"Daejeon_preprocess.csv\")\n",
    "\n",
    "incheon_preprocessed = pd.read_csv(\"Incheon_preprocess.csv\")\n",
    "\n",
    "seoul_preprocessed = pd.read_csv(\"Seoul_preprocess.csv\")"
   ]
  },
  {
   "cell_type": "code",
   "execution_count": 15,
   "metadata": {},
   "outputs": [
    {
     "data": {
      "text/plain": [
       "[<matplotlib.lines.Line2D at 0x29c5d7b65f0>]"
      ]
     },
     "execution_count": 15,
     "metadata": {},
     "output_type": "execute_result"
    },
    {
     "data": {
      "image/png": "[encoded data removed]",
      "text/plain": [
       "<Figure size 640x480 with 1 Axes>"
      ]
     },
     "metadata": {},
     "output_type": "display_data"
    }
   ],
   "source": [
    "# 사인 값 시각화\n",
    "plt.plot(gwangju_preprocessed['Day_sin'], label='sin(day)', color='blue')"
   ]
  },
  {
   "cell_type": "code",
   "execution_count": null,
   "metadata": {},
   "outputs": [],
   "source": [
    "# 사인 값 시각화\n",
    "plt.plot(gwangju_preprocessed['Day_cos'], label='cos(day)', color='blue')"
   ]
  }
 ],
 "metadata": {
  "kernelspec": {
   "display_name": "Python 3",
   "language": "python",
   "name": "python3"
  },
  "language_info": {
   "codemirror_mode": {
    "name": "ipython",
    "version": 3
   },
   "file_extension": ".py",
   "mimetype": "text/x-python",
   "name": "python",
   "nbconvert_exporter": "python",
   "pygments_lexer": "ipython3",
   "version": "3.10.3"
  }
 },
 "nbformat": 4,
 "nbformat_minor": 2
}
